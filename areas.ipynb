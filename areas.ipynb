{
 "cells": [
  {
   "cell_type": "code",
   "execution_count": null,
   "metadata": {},
   "outputs": [],
   "source": [
    "import geopandas as gpd"
   ]
  },
  {
   "cell_type": "code",
   "execution_count": null,
   "metadata": {},
   "outputs": [],
   "source": [
    "# Ref: https://gf0604-procesamientodatosgeograficos.github.io/2022-i/datos/sinac/areas-silvestres-protegidas.geojson\n",
    "asp = gpd.read_file(\"asp.geojson\")\n",
    "# Ensure geometry is in EPSG:4326 for degrees\n",
    "asp = asp.to_crs(\"EPSG:4326\")\n",
    "asp"
   ]
  },
  {
   "cell_type": "code",
   "execution_count": null,
   "metadata": {},
   "outputs": [],
   "source": [
    "asp"
   ]
  },
  {
   "cell_type": "code",
   "execution_count": null,
   "metadata": {},
   "outputs": [],
   "source": [
    "# Ensure geometry is in EPSG:4326 for degrees\n",
    "asp = asp.to_crs(\"EPSG:4326\")\n",
    "\n",
    "# Calculate centroids for all geometries\n",
    "asp[\"centroid\"] = asp.geometry.centroid\n",
    "\n",
    "# # Extract latitude and longitude from centroids\n",
    "asp[\"longitude\"] = asp.centroid.x\n",
    "asp[\"latitude\"] = asp.centroid.y\n"
   ]
  },
  {
   "cell_type": "code",
   "execution_count": null,
   "metadata": {},
   "outputs": [],
   "source": [
    "# Filter by PN\n",
    "asp_filtered_df = asp[asp['siglas_cat'] == 'PN']\n",
    "asp_filtered_df = asp_filtered_df[~asp_filtered_df['descripcio'].str.contains('marina', na=False)]\n",
    "\n",
    "asp_filtered_df"
   ]
  },
  {
   "cell_type": "code",
   "execution_count": null,
   "metadata": {},
   "outputs": [],
   "source": [
    "asp_filtered_point =asp_filtered_df.drop(columns=\"centroid\")"
   ]
  },
  {
   "cell_type": "code",
   "execution_count": null,
   "metadata": {},
   "outputs": [],
   "source": [
    "import geemap\n",
    "for i in range(len(asp_filtered_point)):  # Loop through row indices\n",
    "    chunk = asp_filtered_point.iloc[[i]]  # Keep it as a GeoDataFrame\n",
    "\n",
    "    # Convert to GeoJSON format\n",
    "    geojson_data = geemap.gdf_to_geojson(chunk)\n",
    "\n",
    "    # Save as a GeoJSON file\n",
    "    output_file = f\"output_chunk_{i}.geojson\"\n",
    "    chunk.to_file(output_file, driver=\"GeoJSON\")\n",
    "\n",
    "    print(f\"Saved: {output_file}\")"
   ]
  },
  {
   "cell_type": "code",
   "execution_count": null,
   "metadata": {},
   "outputs": [],
   "source": [
    "import geemap\n",
    "\n",
    "Map = geemap.Map()\n",
    "Map.add_gdf(asp_filtered_point)\n",
    "Map.add_geojson(geojson_data, \"SUUUUP\")\n",
    "Map"
   ]
  },
  {
   "cell_type": "code",
   "execution_count": null,
   "metadata": {},
   "outputs": [],
   "source": [
    "asp.to_csv(\"asp_lat_long.csv\", index=False)\n"
   ]
  },
  {
   "cell_type": "code",
   "execution_count": null,
   "metadata": {},
   "outputs": [],
   "source": [
    "# Get PN Only\n",
    "import geemap\n",
    "from geojson import Point, Feature, FeatureCollection, dump\n",
    "from shapely.wkt import dumps\n",
    "\n",
    "\n",
    "\n",
    "asp_pn = asp[asp['siglas_cat'] == \"PN\"]\n",
    "\n",
    "asp_pn = asp_pn.sort_values(by=\"codigo\", ascending=True)\n",
    "asp_pn[\"geometry\"] = asp_pn[\"geometry\"].apply(dumps)  # Convert geometry to WKT\n",
    "asp_pn.to_csv(\"output_with_geometry.csv\", index=False)\n"
   ]
  },
  {
   "cell_type": "code",
   "execution_count": null,
   "metadata": {},
   "outputs": [],
   "source": [
    "import geemap\n",
    "from geojson import Point, Feature, FeatureCollection, dump\n",
    "\n",
    "asp_pn = asp_pn.to_crs(\"EPSG:4326\")\n",
    "asp_pn.geometry = asp_pn.geometry.make_valid()\n",
    "fil = asp_pn.iloc[0:1]\n",
    "fil['geometry'] = fil['geometry'].simplify(0.1).buffer(0)\n",
    "geojson = geemap.gdf_to_geojson(fil)\n",
    "with open('myfile.geojson', 'w') as f:\n",
    "   dump(geojson, f)"
   ]
  },
  {
   "cell_type": "code",
   "execution_count": null,
   "metadata": {},
   "outputs": [],
   "source": [
    "import geemap\n",
    "a = geemap.gdf_to_geojson(asp_pn)\n",
    "a"
   ]
  },
  {
   "cell_type": "code",
   "execution_count": null,
   "metadata": {},
   "outputs": [],
   "source": [
    "# Set the chunk size\n",
    "chunk_size = 5\n",
    "\n",
    "# Split the GDF into chunks and save each as a separate CSV\n",
    "for i in range(0, len(asp_pn), chunk_size):\n",
    "    chunk = asp_pn.iloc[i:i + chunk_size]\n",
    "    chunk.to_csv(f\"output_chunk_{i // chunk_size + 1}.csv\", index=False)\n"
   ]
  },
  {
   "cell_type": "code",
   "execution_count": null,
   "metadata": {},
   "outputs": [],
   "source": [
    "asp_filtered_df"
   ]
  },
  {
   "cell_type": "code",
   "execution_count": null,
   "metadata": {},
   "outputs": [],
   "source": [
    "import json\n",
    "from shapely.geometry import mapping\n",
    "\n",
    "# Assume your GeoDataFrame is named gdf and has a column 'name'\n",
    "# Create a new column 'raw_geojson' that holds the GeoJSON string for each geometry.\n",
    "asp_filtered_df['raw_geojson'] = asp_filtered_df.geometry.apply(lambda geom: json.dumps(mapping(geom)))\n",
    "\n",
    "# Select only the necessary columns\n",
    "output_df = asp_filtered_df[['nombre_asp', 'raw_geojson']]\n",
    "\n",
    "# Export to CSV\n",
    "output_df.to_csv('output.csv', index=False)\n"
   ]
  },
  {
   "cell_type": "code",
   "execution_count": null,
   "metadata": {},
   "outputs": [],
   "source": []
  }
 ],
 "metadata": {
  "kernelspec": {
   "display_name": "venv",
   "language": "python",
   "name": "python3"
  },
  "language_info": {
   "codemirror_mode": {
    "name": "ipython",
    "version": 3
   },
   "file_extension": ".py",
   "mimetype": "text/x-python",
   "name": "python",
   "nbconvert_exporter": "python",
   "pygments_lexer": "ipython3",
   "version": "3.11.2"
  }
 },
 "nbformat": 4,
 "nbformat_minor": 2
}
